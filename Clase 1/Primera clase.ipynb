{
 "cells": [
  {
   "cell_type": "markdown",
   "metadata": {},
   "source": [
    "## Primera clase\n",
    "\n",
    "El \n",
    "[lcarrera@uni.edu.pe](mailto:@lcarrerauni.edu.pe)"
   ]
  },
  {
   "cell_type": "code",
   "execution_count": 2,
   "metadata": {},
   "outputs": [
    {
     "name": "stdout",
     "output_type": "stream",
     "text": [
      "/home/carlosal1015/Escritorio/Linux-Administrator/Clase 1\n"
     ]
    }
   ],
   "source": [
    "pwd"
   ]
  },
  {
   "cell_type": "markdown",
   "metadata": {},
   "source": [
    "## Ejercicios\n",
    "\n",
    "1. Crear los siguientes archivos y contenidos:\n",
    "\n",
    "    a. `independecia.txt` ---> El calendario del mes de julio de 1821.\n",
    "\n",
    "    b. `terminales.txt` -----> La lista de los nombres y los terminales que usan.\n",
    "\n",
    "    c. `ingreso.txt` --------> La lista de usuarios y su hora de ingreso al sistema.\n",
    "\n",
    "2. Crear un archivo que contenga los nombres de usuarios y sus directorios hogar del sistema.\n",
    "3. Crear un archivo que contenga las líneas 10 a 20 del archivo `/etc/passwd`.\n",
    "4. Obtener el número de usuarios conectados.\n",
    "\n",
    "Tiempo 40 min.\n",
    "\n",
    "## Solución:\n",
    "\n",
    "Práctica de correo y el uso de vi."
   ]
  },
  {
   "cell_type": "code",
   "execution_count": 1,
   "metadata": {},
   "outputs": [
    {
     "name": "stdout",
     "output_type": "stream",
     "text": [
      "uid=501(User) gid=20(staff) groups=20(staff),401(com.apple.sharepoint.group.1),12(everyone),61(localaccounts),79(_appserverusr),80(admin),81(_appserveradm),98(_lpadmin),33(_appstore),100(_lpoperator),204(_developer),398(com.apple.access_screensharing),399(com.apple.access_ssh)\n"
     ]
    }
   ],
   "source": [
    "id"
   ]
  },
  {
   "cell_type": "code",
   "execution_count": 2,
   "metadata": {},
   "outputs": [
    {
     "name": "stdout",
     "output_type": "stream",
     "text": [
      "Users-MacBook-Air.local\n"
     ]
    }
   ],
   "source": [
    "hostname"
   ]
  },
  {
   "cell_type": "code",
   "execution_count": 3,
   "metadata": {},
   "outputs": [
    {
     "name": "stdout",
     "output_type": "stream",
     "text": [
      "Darwin\n"
     ]
    }
   ],
   "source": [
    "uname"
   ]
  },
  {
   "cell_type": "code",
   "execution_count": 4,
   "metadata": {},
   "outputs": [
    {
     "name": "stdout",
     "output_type": "stream",
     "text": [
      "13.4.0\n"
     ]
    }
   ],
   "source": [
    "uname -r"
   ]
  },
  {
   "cell_type": "code",
   "execution_count": 5,
   "metadata": {},
   "outputs": [
    {
     "name": "stdout",
     "output_type": "stream",
     "text": [
      "Fri Feb 16 20:51:57 PET 2018\n"
     ]
    }
   ],
   "source": [
    "date"
   ]
  },
  {
   "cell_type": "code",
   "execution_count": 6,
   "metadata": {},
   "outputs": [
    {
     "name": "stdout",
     "output_type": "stream",
     "text": [
      "User     console  Feb 16 12:29 \n",
      "User     ttys000  Feb 16 20:45 \n"
     ]
    }
   ],
   "source": [
    "who"
   ]
  },
  {
   "cell_type": "code",
   "execution_count": 7,
   "metadata": {},
   "outputs": [
    {
     "name": "stdout",
     "output_type": "stream",
     "text": [
      "20:52  up  8:23, 2 users, load averages: 2.66 2.05 1.80\n",
      "USER     TTY      FROM              LOGIN@  IDLE WHAT\n",
      "User     console  -                12:29    8:22 -\n",
      "User     s000     -                20:45       6 /anaconda/bin/python /anaconda\n"
     ]
    }
   ],
   "source": [
    "w"
   ]
  },
  {
   "cell_type": "code",
   "execution_count": 8,
   "metadata": {},
   "outputs": [
    {
     "name": "stdout",
     "output_type": "stream",
     "text": [
      "   .       run-level 3\n"
     ]
    }
   ],
   "source": [
    "who -r"
   ]
  },
  {
   "cell_type": "code",
   "execution_count": 9,
   "metadata": {},
   "outputs": [
    {
     "name": "stdout",
     "output_type": "stream",
     "text": [
      "\n",
      "WHO(1)                    BSD General Commands Manual                   WHO(1)\n",
      "\n",
      "NAME\n",
      "     who -- display who is logged in\n",
      "\n",
      "SYNOPSIS\n",
      "     who [-abdHlmpqrsTtu] [file]\n",
      "     who am i\n",
      "\n",
      "DESCRIPTION\n",
      "     The who utility displays a list of all users currently logged on, showing\n",
      "     for each user the login name, tty name, the date and time of login, and\n",
      "     hostname if not local.\n",
      "\n",
      "     Available options:\n",
      "\n",
      "     -a    Same as -bdlprTtu.\n",
      "\n",
      "     -b    Time of last system boot.\n",
      "\n",
      "     -d    Print dead processes.\n",
      "\n",
      "     -H    Write column headings above the regular output.\n",
      "\n",
      "     -l    Print system login processes (unsupported).\n",
      "\n",
      "     -m    Only print information about the current terminal.  This is the\n",
      "           POSIX way of saying who am i.\n",
      "\n",
      "     -p    Print active processes spawned by launchd(8) (unsupported).\n",
      "\n",
      "     -q    ``Quick mode'': List only the names and the number of users cur-\n",
      "           rently logged on.  When this option is used, all other options are\n",
      "           ignored.\n",
      "\n",
      "     -r    Print the current runlevel.  This is meaningless on Mac OS X.\n",
      "\n",
      "     -s    List only the name, line and time fields.  This is the default.\n",
      "\n",
      "     -T    Print a character after the user name indicating the state of the\n",
      "           terminal line: `+' if the terminal is writable; `-' if it is not;\n",
      "           and `?' if a bad line is encountered.\n",
      "\n",
      "     -t    Print last system clock change (unsupported).\n",
      "\n",
      "     -u    Print the idle time for each user, and the associated process ID.\n",
      "\n",
      "     am I  Returns the invoker's real user name.\n",
      "\n",
      "     file  By default, who gathers information from the file /var/run/utmpx.\n",
      "           An alternative file may be specified.\n",
      "\n",
      "FILES\n",
      "     /var/run/utmpx\n",
      "\n",
      "SEE ALSO\n",
      "     last(1), mesg(1), users(1), getuid(2), utmpx(5)\n",
      "\n",
      "STANDARDS\n",
      "     The who utility conforms to IEEE Std 1003.1-2001 (``POSIX.1'').\n",
      "\n",
      "HISTORY\n",
      "     A who utility appeared in Version 6 AT&T UNIX.\n",
      "\n",
      "BSD                            January 17, 2007                            BSD\n"
     ]
    }
   ],
   "source": [
    "man who"
   ]
  },
  {
   "cell_type": "code",
   "execution_count": 10,
   "metadata": {},
   "outputs": [
    {
     "name": "stdout",
     "output_type": "stream",
     "text": [
      "#\n",
      "# Mac OS X Notice\n",
      "#\n",
      "# This file is not used by the host name and address resolution\n",
      "# or the DNS query routing mechanisms used by most processes on\n",
      "# this Mac OS X system.\n",
      "#\n",
      "# This file is automatically generated.\n",
      "#\n",
      "domain cpe.tdp.com\n",
      "nameserver 200.48.225.130\n",
      "nameserver 200.48.225.146\n"
     ]
    }
   ],
   "source": [
    "cat /etc/resolv.conf"
   ]
  },
  {
   "cell_type": "code",
   "execution_count": 11,
   "metadata": {},
   "outputs": [
    {
     "name": "stdout",
     "output_type": "stream",
     "text": [
      "##\n",
      "# User Database\n",
      "# \n",
      "# Note that this file is consulted directly only when the system is running\n",
      "# in single-user mode.  At other times this information is provided by\n",
      "# Open Directory.\n",
      "#\n",
      "# See the opendirectoryd(8) man page for additional information about\n",
      "# Open Directory.\n",
      "##\n",
      "nobody:*:-2:-2:Unprivileged User:/var/empty:/usr/bin/false\n",
      "root:*:0:0:System Administrator:/var/root:/bin/sh\n",
      "daemon:*:1:1:System Services:/var/root:/usr/bin/false\n",
      "_uucp:*:4:4:Unix to Unix Copy Protocol:/var/spool/uucp:/usr/sbin/uucico\n",
      "_taskgated:*:13:13:Task Gate Daemon:/var/empty:/usr/bin/false\n",
      "_networkd:*:24:24:Network Services:/var/networkd:/usr/bin/false\n",
      "_installassistant:*:25:25:Install Assistant:/var/empty:/usr/bin/false\n",
      "_lp:*:26:26:Printing Services:/var/spool/cups:/usr/bin/false\n",
      "_postfix:*:27:27:Postfix Mail Server:/var/spool/postfix:/usr/bin/false\n",
      "_scsd:*:31:31:Service Configuration Service:/var/empty:/usr/bin/false\n",
      "_ces:*:32:32:Certificate Enrollment Service:/var/empty:/usr/bin/false\n",
      "_mcxalr:*:54:54:MCX AppLaunch:/var/empty:/usr/bin/false\n",
      "_appleevents:*:55:55:AppleEvents Daemon:/var/empty:/usr/bin/false\n",
      "_geod:*:56:56:Geo Services Daemon:/var/db/geod:/usr/bin/false\n",
      "_serialnumberd:*:58:58:Serial Number Daemon:/var/empty:/usr/bin/false\n",
      "_devdocs:*:59:59:Developer Documentation:/var/empty:/usr/bin/false\n",
      "_sandbox:*:60:60:Seatbelt:/var/empty:/usr/bin/false\n",
      "_mdnsresponder:*:65:65:mDNSResponder:/var/empty:/usr/bin/false\n",
      "_ard:*:67:67:Apple Remote Desktop:/var/empty:/usr/bin/false\n",
      "_www:*:70:70:World Wide Web Server:/Library/WebServer:/usr/bin/false\n",
      "_eppc:*:71:71:Apple Events User:/var/empty:/usr/bin/false\n",
      "_cvs:*:72:72:CVS Server:/var/empty:/usr/bin/false\n",
      "_svn:*:73:73:SVN Server:/var/empty:/usr/bin/false\n",
      "_mysql:*:74:74:MySQL Server:/var/empty:/usr/bin/false\n",
      "_sshd:*:75:75:sshd Privilege separation:/var/empty:/usr/bin/false\n",
      "_qtss:*:76:76:QuickTime Streaming Server:/var/empty:/usr/bin/false\n",
      "_cyrus:*:77:6:Cyrus Administrator:/var/imap:/usr/bin/false\n",
      "_mailman:*:78:78:Mailman List Server:/var/empty:/usr/bin/false\n",
      "_appserver:*:79:79:Application Server:/var/empty:/usr/bin/false\n",
      "_clamav:*:82:82:ClamAV Daemon:/var/virusmails:/usr/bin/false\n",
      "_amavisd:*:83:83:AMaViS Daemon:/var/virusmails:/usr/bin/false\n",
      "_jabber:*:84:84:Jabber XMPP Server:/var/empty:/usr/bin/false\n",
      "_appowner:*:87:87:Application Owner:/var/empty:/usr/bin/false\n",
      "_windowserver:*:88:88:WindowServer:/var/empty:/usr/bin/false\n",
      "_spotlight:*:89:89:Spotlight:/var/empty:/usr/bin/false\n",
      "_tokend:*:91:91:Token Daemon:/var/empty:/usr/bin/false\n",
      "_securityagent:*:92:92:SecurityAgent:/var/empty:/usr/bin/false\n",
      "_calendar:*:93:93:Calendar:/var/empty:/usr/bin/false\n",
      "_teamsserver:*:94:94:TeamsServer:/var/teamsserver:/usr/bin/false\n",
      "_update_sharing:*:95:-2:Update Sharing:/var/empty:/usr/bin/false\n",
      "_installer:*:96:-2:Installer:/var/empty:/usr/bin/false\n",
      "_atsserver:*:97:97:ATS Server:/var/empty:/usr/bin/false\n",
      "_ftp:*:98:-2:FTP Daemon:/var/empty:/usr/bin/false\n",
      "_unknown:*:99:99:Unknown User:/var/empty:/usr/bin/false\n",
      "_softwareupdate:*:200:200:Software Update Service:/var/empty:/usr/bin/false\n",
      "_coreaudiod:*:202:202:Core Audio Daemon:/var/empty:/usr/bin/false\n",
      "_screensaver:*:203:203:Screensaver:/var/empty:/usr/bin/false\n",
      "_locationd:*:205:205:Location Daemon:/var/db/locationd:/usr/bin/false\n",
      "_trustevaluationagent:*:208:208:Trust Evaluation Agent:/var/empty:/usr/bin/false\n",
      "_timezone:*:210:210:AutoTimeZoneDaemon:/var/empty:/usr/bin/false\n",
      "_lda:*:211:211:Local Delivery Agent:/var/empty:/usr/bin/false\n",
      "_cvmsroot:*:212:212:CVMS Root:/var/empty:/usr/bin/false\n",
      "_usbmuxd:*:213:213:iPhone OS Device Helper:/var/db/lockdown:/usr/bin/false\n",
      "_dovecot:*:214:6:Dovecot Administrator:/var/empty:/usr/bin/false\n",
      "_dpaudio:*:215:215:DP Audio:/var/empty:/usr/bin/false\n",
      "_postgres:*:216:216:PostgreSQL Server:/var/empty:/usr/bin/false\n",
      "_krbtgt:*:217:-2:Kerberos Ticket Granting Ticket:/var/empty:/usr/bin/false\n",
      "_kadmin_admin:*:218:-2:Kerberos Admin Service:/var/empty:/usr/bin/false\n",
      "_kadmin_changepw:*:219:-2:Kerberos Change Password Service:/var/empty:/usr/bin/false\n",
      "_devicemgr:*:220:220:Device Management Server:/var/empty:/usr/bin/false\n",
      "_webauthserver:*:221:221:Web Auth Server:/var/empty:/usr/bin/false\n",
      "_netbios:*:222:222:NetBIOS:/var/empty:/usr/bin/false\n",
      "_warmd:*:224:224:Warm Daemon:/var/empty:/usr/bin/false\n",
      "_dovenull:*:227:227:Dovecot Authentication:/var/empty:/usr/bin/false\n",
      "_netstatistics:*:228:228:Network Statistics Daemon:/var/empty:/usr/bin/false\n",
      "_avbdeviced:*:229:-2:Ethernet AVB Device Daemon:/var/empty:/usr/bin/false\n",
      "_krb_krbtgt:*:230:-2:Open Directory Kerberos Ticket Granting Ticket:/var/empty:/usr/bin/false\n",
      "_krb_kadmin:*:231:-2:Open Directory Kerberos Admin Service:/var/empty:/usr/bin/false\n",
      "_krb_changepw:*:232:-2:Open Directory Kerberos Change Password Service:/var/empty:/usr/bin/false\n",
      "_krb_kerberos:*:233:-2:Open Directory Kerberos:/var/empty:/usr/bin/false\n",
      "_krb_anonymous:*:234:-2:Open Directory Kerberos Anonymous:/var/empty:/usr/bin/false\n",
      "_assetcache:*:235:235:Asset Cache Service:/var/empty:/usr/bin/false\n",
      "_coremediaiod:*:236:236:Core Media IO Daemon:/var/empty:/usr/bin/false\n",
      "_xcsbuildagent:*:237:237:Xcode Server Build Agent:/var/empty:/usr/bin/false\n",
      "_xcscredserver:*:238:238:Xcode Server Credential Server:/var/empty:/usr/bin/false\n",
      "_launchservicesd:*:239:239:_launchservicesd:/var/empty:/usr/bin/false\n"
     ]
    }
   ],
   "source": [
    "cat /etc/passwd"
   ]
  },
  {
   "cell_type": "code",
   "execution_count": 12,
   "metadata": {},
   "outputs": [
    {
     "name": "stdout",
     "output_type": "stream",
     "text": [
      "##\n",
      "# User Database\n",
      "# \n",
      "# Note that this file is consulted directly only when the system is running\n",
      "# in single-user mode.  At other times this information is provided by\n",
      "# Open Directory.\n",
      "#\n",
      "# See the opendirectoryd(8) man page for additional information about\n",
      "# Open Directory.\n",
      "##\n"
     ]
    }
   ],
   "source": [
    "head /etc/passwd"
   ]
  },
  {
   "cell_type": "code",
   "execution_count": 13,
   "metadata": {},
   "outputs": [
    {
     "name": "stdout",
     "output_type": "stream",
     "text": [
      "##\n"
     ]
    }
   ],
   "source": [
    "head -1 /etc/passwd"
   ]
  },
  {
   "cell_type": "code",
   "execution_count": 14,
   "metadata": {},
   "outputs": [
    {
     "name": "stdout",
     "output_type": "stream",
     "text": [
      "##\n",
      "# User Database\n",
      "# \n"
     ]
    }
   ],
   "source": [
    "head -3 /etc/passwd"
   ]
  },
  {
   "cell_type": "code",
   "execution_count": 15,
   "metadata": {},
   "outputs": [
    {
     "name": "stdout",
     "output_type": "stream",
     "text": [
      "##\n",
      "# User Database\n",
      "# \n",
      "# Note that this file is consulted directly only when the system is running\n",
      "# in single-user mode.  At other times this information is provided by\n",
      "# Open Directory.\n",
      "#\n",
      "# See the opendirectoryd(8) man page for additional information about\n",
      "# Open Directory.\n",
      "##\n",
      "nobody:*:-2:-2:Unprivileged User:/var/empty:/usr/bin/false\n",
      "root:*:0:0:System Administrator:/var/root:/bin/sh\n",
      "daemon:*:1:1:System Services:/var/root:/usr/bin/false\n",
      "_uucp:*:4:4:Unix to Unix Copy Protocol:/var/spool/uucp:/usr/sbin/uucico\n",
      "_taskgated:*:13:13:Task Gate Daemon:/var/empty:/usr/bin/false\n",
      "_networkd:*:24:24:Network Services:/var/networkd:/usr/bin/false\n",
      "_installassistant:*:25:25:Install Assistant:/var/empty:/usr/bin/false\n",
      "_lp:*:26:26:Printing Services:/var/spool/cups:/usr/bin/false\n",
      "_postfix:*:27:27:Postfix Mail Server:/var/spool/postfix:/usr/bin/false\n",
      "_scsd:*:31:31:Service Configuration Service:/var/empty:/usr/bin/false\n"
     ]
    }
   ],
   "source": [
    "head -20 /etc/passwd"
   ]
  },
  {
   "cell_type": "code",
   "execution_count": 16,
   "metadata": {},
   "outputs": [
    {
     "name": "stdout",
     "output_type": "stream",
     "text": [
      "_krb_krbtgt:*:230:-2:Open Directory Kerberos Ticket Granting Ticket:/var/empty:/usr/bin/false\n",
      "_krb_kadmin:*:231:-2:Open Directory Kerberos Admin Service:/var/empty:/usr/bin/false\n",
      "_krb_changepw:*:232:-2:Open Directory Kerberos Change Password Service:/var/empty:/usr/bin/false\n",
      "_krb_kerberos:*:233:-2:Open Directory Kerberos:/var/empty:/usr/bin/false\n",
      "_krb_anonymous:*:234:-2:Open Directory Kerberos Anonymous:/var/empty:/usr/bin/false\n",
      "_assetcache:*:235:235:Asset Cache Service:/var/empty:/usr/bin/false\n",
      "_coremediaiod:*:236:236:Core Media IO Daemon:/var/empty:/usr/bin/false\n",
      "_xcsbuildagent:*:237:237:Xcode Server Build Agent:/var/empty:/usr/bin/false\n",
      "_xcscredserver:*:238:238:Xcode Server Credential Server:/var/empty:/usr/bin/false\n",
      "_launchservicesd:*:239:239:_launchservicesd:/var/empty:/usr/bin/false\n"
     ]
    }
   ],
   "source": [
    "tail /etc/passwd"
   ]
  },
  {
   "cell_type": "code",
   "execution_count": 17,
   "metadata": {},
   "outputs": [
    {
     "name": "stdout",
     "output_type": "stream",
     "text": [
      "_launchservicesd:*:239:239:_launchservicesd:/var/empty:/usr/bin/false\n"
     ]
    }
   ],
   "source": [
    "tail -1 /etc/passwd"
   ]
  },
  {
   "cell_type": "code",
   "execution_count": 18,
   "metadata": {},
   "outputs": [
    {
     "name": "stdout",
     "output_type": "stream",
     "text": [
      "_xcsbuildagent:*:237:237:Xcode Server Build Agent:/var/empty:/usr/bin/false\n",
      "_xcscredserver:*:238:238:Xcode Server Credential Server:/var/empty:/usr/bin/false\n",
      "_launchservicesd:*:239:239:_launchservicesd:/var/empty:/usr/bin/false\n"
     ]
    }
   ],
   "source": [
    "tail -3 /etc/passwd"
   ]
  },
  {
   "cell_type": "code",
   "execution_count": 19,
   "metadata": {},
   "outputs": [
    {
     "name": "stdout",
     "output_type": "stream",
     "text": [
      "      86     243    5253 /etc/passwd\n"
     ]
    }
   ],
   "source": [
    "wc /etc/passwd"
   ]
  },
  {
   "cell_type": "code",
   "execution_count": 20,
   "metadata": {},
   "outputs": [
    {
     "name": "stdout",
     "output_type": "stream",
     "text": [
      "     243 /etc/passwd\n"
     ]
    }
   ],
   "source": [
    "wc -w /etc/passwd"
   ]
  },
  {
   "cell_type": "code",
   "execution_count": 21,
   "metadata": {},
   "outputs": [
    {
     "name": "stdout",
     "output_type": "stream",
     "text": [
      "root:*:0:0:System Administrator:/var/root:/bin/sh\n",
      "daemon:*:1:1:System Services:/var/root:/usr/bin/false\n",
      "_cvmsroot:*:212:212:CVMS Root:/var/empty:/usr/bin/false\n"
     ]
    }
   ],
   "source": [
    "grep root /etc/passwd"
   ]
  },
  {
   "cell_type": "code",
   "execution_count": 25,
   "metadata": {},
   "outputs": [
    {
     "name": "stdout",
     "output_type": "stream",
     "text": [
      "/Users/User/Desktop/Repositorios/Linux-Administrator/Clase 1\n",
      "\n",
      "WRITE(1)                  BSD General Commands Manual                 WRITE(1)\n",
      "\n",
      "NAME\n",
      "     write -- send a message to another user\n",
      "\n",
      "SYNOPSIS\n",
      "     write user [ttyname]\n",
      "\n",
      "DESCRIPTION\n",
      "     The write utility allows you to communicate with other users, by copying\n",
      "     lines from your terminal to theirs.\n",
      "\n",
      "     When you run the write command, the user you are writing to gets a mes-\n",
      "     sage of the form:\n",
      "\n",
      "           Message from yourname@yourhost on yourtty at hh:mm ...\n",
      "\n",
      "     Any further lines you enter will be copied to the specified user's termi-\n",
      "     nal.  If the other user wants to reply, they must run write as well.\n",
      "\n",
      "     When you are done, type an end-of-file or interrupt character.  The other\n",
      "     user will see the message `EOF' indicating that the conversation is over.\n",
      "\n",
      "     You can prevent people (other than the super-user) from writing to you\n",
      "     with the mesg(1) command.\n",
      "\n",
      "     If the user you want to write to is logged in on more than one terminal,\n",
      "     you can specify which terminal to write to by specifying the terminal\n",
      "     name as the second operand to the write command.  Alternatively, you can\n",
      "     let write select one of the terminals - it will pick the one with the\n",
      "     shortest idle time.  This is so that if the user is logged in at work and\n",
      "     also dialed up from home, the message will go to the right place.\n",
      "\n",
      "     The traditional protocol for writing to someone is that the string `-o',\n",
      "     either at the end of a line or on a line by itself, means that it's the\n",
      "     other person's turn to talk.  The string `oo' means that the person\n",
      "     believes the conversation to be over.\n",
      "\n",
      "SEE ALSO\n",
      "     mesg(1), talk(1), wall(1), who(1)\n",
      "\n",
      "HISTORY\n",
      "     A write command appeared in Version 1 AT&T UNIX.\n",
      "\n",
      "BSD                              June 6, 1993                              BSD\n"
     ]
    }
   ],
   "source": [
    "# loadkeys es\n",
    "pwd\n",
    "man write"
   ]
  },
  {
   "cell_type": "code",
   "execution_count": 26,
   "metadata": {},
   "outputs": [
    {
     "name": "stdout",
     "output_type": "stream",
     "text": [
      "\n",
      "CUT(1)                    BSD General Commands Manual                   CUT(1)\n",
      "\n",
      "NAME\n",
      "     cut -- cut out selected portions of each line of a file\n",
      "\n",
      "SYNOPSIS\n",
      "     cut -b list [-n] [file ...]\n",
      "     cut -c list [file ...]\n",
      "     cut -f list [-d delim] [-s] [file ...]\n",
      "\n",
      "DESCRIPTION\n",
      "     The cut utility cuts out selected portions of each line (as specified by\n",
      "     list) from each file and writes them to the standard output.  If no file\n",
      "     arguments are specified, or a file argument is a single dash (`-'), cut\n",
      "     reads from the standard input.  The items specified by list can be in\n",
      "     terms of column position or in terms of fields delimited by a special\n",
      "     character.  Column numbering starts from 1.\n",
      "\n",
      "     The list option argument is a comma or whitespace separated set of num-\n",
      "     bers and/or number ranges.  Number ranges consist of a number, a dash\n",
      "     (`-'), and a second number and select the fields or columns from the\n",
      "     first number to the second, inclusive.  Numbers or number ranges may be\n",
      "     preceded by a dash, which selects all fields or columns from 1 to the\n",
      "     last number.  Numbers or number ranges may be followed by a dash, which\n",
      "     selects all fields or columns from the last number to the end of the\n",
      "     line.  Numbers and number ranges may be repeated, overlapping, and in any\n",
      "     order.  If a field or column is specified multiple times, it will appear\n",
      "     only once in the output.  It is not an error to select fields or columns\n",
      "     not present in the input line.\n",
      "\n",
      "     The options are as follows:\n",
      "\n",
      "     -b list\n",
      "             The list specifies byte positions.\n",
      "\n",
      "     -c list\n",
      "             The list specifies character positions.\n",
      "\n",
      "     -d delim\n",
      "             Use delim as the field delimiter character instead of the tab\n",
      "             character.\n",
      "\n",
      "     -f list\n",
      "             The list specifies fields, separated in the input by the field\n",
      "             delimiter character (see the -d option.)  Output fields are sepa-\n",
      "             rated by a single occurrence of the field delimiter character.\n",
      "\n",
      "     -n      Do not split multi-byte characters.  Characters will only be out-\n",
      "             put if at least one byte is selected, and, after a prefix of zero\n",
      "             or more unselected bytes, the rest of the bytes that form the\n",
      "             character are selected.\n",
      "\n",
      "     -s      Suppress lines with no field delimiter characters.  Unless speci-\n",
      "             fied, lines with no delimiters are passed through unmodified.\n",
      "\n",
      "ENVIRONMENT\n",
      "     The LANG, LC_ALL and LC_CTYPE environment variables affect the execution\n",
      "     of cut as described in environ(7).\n",
      "\n",
      "EXIT STATUS\n",
      "     The cut utility exits 0 on success, and >0 if an error occurs.\n",
      "\n",
      "EXAMPLES\n",
      "     Extract users' login names and shells from the system passwd(5) file as\n",
      "     ``name:shell'' pairs:\n",
      "\n",
      "           cut -d : -f 1,7 /etc/passwd\n",
      "\n",
      "     Show the names and login times of the currently logged in users:\n",
      "\n",
      "           who | cut -c 1-16,26-38\n",
      "\n",
      "SEE ALSO\n",
      "     colrm(1), paste(1)\n",
      "\n",
      "STANDARDS\n",
      "     The cut utility conforms to IEEE Std 1003.2-1992 (``POSIX.2'').\n",
      "\n",
      "HISTORY\n",
      "     A cut command appeared in AT&T System III UNIX.\n",
      "\n",
      "BSD                            December 21, 2006                           BSD\n"
     ]
    }
   ],
   "source": [
    "man cut"
   ]
  }
 ],
 "metadata": {
  "kernelspec": {
   "display_name": "Bash",
   "language": "bash",
   "name": "bash"
  },
  "language_info": {
   "codemirror_mode": "shell",
   "file_extension": ".sh",
   "mimetype": "text/x-sh",
   "name": "bash"
  }
 },
 "nbformat": 4,
 "nbformat_minor": 2
}
