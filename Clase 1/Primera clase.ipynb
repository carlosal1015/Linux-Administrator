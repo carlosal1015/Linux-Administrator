{
 "cells": [
  {
   "cell_type": "markdown",
   "metadata": {},
   "source": [
    "## Primera clase\n",
    "\n",
    "El \n",
    "[lcarrera@uni.edu.pe](mailto:@lcarrerauni.edu.pe)"
   ]
  },
  {
   "cell_type": "code",
   "execution_count": 2,
   "metadata": {},
   "outputs": [
    {
     "name": "stdout",
     "output_type": "stream",
     "text": [
      "/home/carlosal1015/Escritorio/Linux-Administrator/Clase 1\n"
     ]
    }
   ],
   "source": [
    "pwd"
   ]
  },
  {
   "cell_type": "markdown",
   "metadata": {},
   "source": [
    "## Ejercicios\n",
    "\n",
    "1. Crear los siguientes archivos y contenidos:\n",
    "\n",
    "    a. `independecia.txt` ---> El calendario del mes de julio de 1821.\n",
    "\n",
    "    b. `terminales.txt` -----> La lista de los nombres y los terminales que usan.\n",
    "\n",
    "    c. `ingreso.txt` --------> La lista de usuarios y su hora de ingreso al sistema.\n",
    "\n",
    "2. Crear un archivo que contenga los nombres de usuarios y sus directorios hogar del sistema.\n",
    "3. Crear un archivo que contenga las líneas 10 a 20 del archivo `/etc/passwd`.\n",
    "4. Obtener el número de usuarios conectados.\n",
    "\n",
    "Tiempo 40 min.\n",
    "\n",
    "## Solución:\n",
    "\n",
    "Práctica de correo y el uso de vi."
   ]
  },
  {
   "cell_type": "code",
   "execution_count": null,
   "metadata": {
    "collapsed": true
   },
   "outputs": [],
   "source": []
  },
  {
   "cell_type": "code",
   "execution_count": null,
   "metadata": {
    "collapsed": true
   },
   "outputs": [],
   "source": []
  },
  {
   "cell_type": "code",
   "execution_count": null,
   "metadata": {
    "collapsed": true
   },
   "outputs": [],
   "source": []
  },
  {
   "cell_type": "code",
   "execution_count": null,
   "metadata": {
    "collapsed": true
   },
   "outputs": [],
   "source": []
  }
 ],
 "metadata": {
  "kernelspec": {
   "display_name": "Bash",
   "language": "bash",
   "name": "bash"
  },
  "language_info": {
   "codemirror_mode": "shell",
   "file_extension": ".sh",
   "mimetype": "text/x-sh",
   "name": "bash"
  }
 },
 "nbformat": 4,
 "nbformat_minor": 2
}
